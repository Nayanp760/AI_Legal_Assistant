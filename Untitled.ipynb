{
 "cells": [
  {
   "cell_type": "code",
   "execution_count": 1,
   "id": "d9175348",
   "metadata": {},
   "outputs": [
    {
     "name": "stdout",
     "output_type": "stream",
     "text": [
      "Collecting PyPDF2\n",
      "  Downloading pypdf2-3.0.1-py3-none-any.whl (232 kB)\n",
      "     -------------------------------------- 232.6/232.6 kB 1.8 MB/s eta 0:00:00\n",
      "Collecting typing_extensions>=3.10.0.0\n",
      "  Downloading typing_extensions-4.5.0-py3-none-any.whl (27 kB)\n",
      "Installing collected packages: typing_extensions, PyPDF2\n",
      "  Attempting uninstall: typing_extensions\n",
      "    Found existing installation: typing-extensions 3.7.4.3\n",
      "    Uninstalling typing-extensions-3.7.4.3:\n",
      "      Successfully uninstalled typing-extensions-3.7.4.3\n",
      "Successfully installed PyPDF2-3.0.1 typing_extensions-4.5.0\n",
      "Collecting openpyxl\n",
      "  Downloading openpyxl-3.1.1-py2.py3-none-any.whl (249 kB)\n",
      "     -------------------------------------- 249.8/249.8 kB 5.1 MB/s eta 0:00:00\n",
      "Collecting et-xmlfile\n",
      "  Downloading et_xmlfile-1.1.0-py3-none-any.whl (4.7 kB)\n",
      "Installing collected packages: et-xmlfile, openpyxl\n",
      "Successfully installed et-xmlfile-1.1.0 openpyxl-3.1.1\n"
     ]
    }
   ],
   "source": [
    "!pip install PyPDF2\n",
    "!pip install openpyxl"
   ]
  },
  {
   "cell_type": "code",
   "execution_count": 12,
   "id": "68e2c2a5",
   "metadata": {},
   "outputs": [
    {
     "name": "stderr",
     "output_type": "stream",
     "text": [
      "incorrect startxref pointer(1)\n",
      " impossible to decode XFormObject /Im4\n",
      " impossible to decode XFormObject /Im4\n",
      " impossible to decode XFormObject /Im4\n",
      "incorrect startxref pointer(1)\n",
      "incorrect startxref pointer(1)\n",
      " impossible to decode XFormObject /Im4\n",
      " impossible to decode XFormObject /Im4\n",
      " impossible to decode XFormObject /Im4\n",
      " impossible to decode XFormObject /Im4\n",
      " impossible to decode XFormObject /Im4\n",
      " impossible to decode XFormObject /Im4\n",
      " impossible to decode XFormObject /Im4\n",
      " impossible to decode XFormObject /Im4\n",
      " impossible to decode XFormObject /Im4\n",
      " impossible to decode XFormObject /Im4\n",
      "incorrect startxref pointer(1)\n",
      "incorrect startxref pointer(1)\n",
      " impossible to decode XFormObject /Im4\n",
      " impossible to decode XFormObject /Im4\n",
      " impossible to decode XFormObject /Im4\n",
      " impossible to decode XFormObject /Im4\n",
      " impossible to decode XFormObject /Im4\n",
      " impossible to decode XFormObject /Im4\n",
      " impossible to decode XFormObject /Im4\n",
      " impossible to decode XFormObject /Im4\n",
      " impossible to decode XFormObject /Im4\n",
      " impossible to decode XFormObject /Im4\n",
      " impossible to decode XFormObject /Im4\n",
      " impossible to decode XFormObject /Im4\n",
      " impossible to decode XFormObject /Im4\n",
      " impossible to decode XFormObject /Im4\n",
      " impossible to decode XFormObject /Im4\n",
      " impossible to decode XFormObject /Im4\n",
      " impossible to decode XFormObject /Im4\n",
      "incorrect startxref pointer(1)\n"
     ]
    }
   ],
   "source": [
    "import os\n",
    "from openpyxl import Workbook\n",
    "from PyPDF2 import PdfReader\n",
    "\n",
    "input_folder = r\"C:\\Users\\91620\\OneDrive\\Desktop\\Final Year Project\\case laws (2)\\New folder (2)\"\n",
    "output_file = r\"C:\\Users\\91620\\OneDrive\\Desktop\\Final Year Project\\sentemental.xlsx\"\n",
    "\n",
    "wb = Workbook()\n",
    "ws = wb.active\n",
    "\n",
    "for i, filename in enumerate(os.listdir(input_folder)):\n",
    "    if filename.endswith(\".pdf\"):\n",
    "        filepath = os.path.join(input_folder, filename)\n",
    "        with open(filepath, \"rb\") as f:\n",
    "            pdf = PdfReader(f)\n",
    "            readerpdf=len(pdf.pages)\n",
    "            for page in range(readerpdf):\n",
    "                text = pdf.pages[page].extract_text()\n",
    "                ws.cell(row=page+1, column=i+1).value = text\n",
    "\n",
    "wb.save(output_file)\n"
   ]
  },
  {
   "cell_type": "code",
   "execution_count": null,
   "id": "b64f452f",
   "metadata": {},
   "outputs": [],
   "source": []
  }
 ],
 "metadata": {
  "kernelspec": {
   "display_name": "Python 3 (ipykernel)",
   "language": "python",
   "name": "python3"
  },
  "language_info": {
   "codemirror_mode": {
    "name": "ipython",
    "version": 3
   },
   "file_extension": ".py",
   "mimetype": "text/x-python",
   "name": "python",
   "nbconvert_exporter": "python",
   "pygments_lexer": "ipython3",
   "version": "3.9.2"
  }
 },
 "nbformat": 4,
 "nbformat_minor": 5
}
