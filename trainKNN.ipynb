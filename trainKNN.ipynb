{
 "cells": [
  {
   "cell_type": "code",
   "execution_count": 1,
   "id": "df10634e",
   "metadata": {},
   "outputs": [],
   "source": [
    "import numpy as np\n",
    "import pandas as pd\n",
    "from sklearn import datasets\n",
    "from sklearn.model_selection import train_test_split\n",
    "import matplotlib.pyplot as plt\n",
    "from matplotlib.colors import ListedColormap\n",
    "from collections import Counter\n",
    "\n",
    "def euclidean_distance(x1, x2):\n",
    "    distance = np.sqrt(np.sum((x1-x2)**2))\n",
    "    return distance\n",
    "\n",
    "class KNN:\n",
    "    def __init__(self, k=3):\n",
    "        self.k = k\n",
    "\n",
    "    def fit(self, X, y):\n",
    "        self.X_train = X\n",
    "        self.y_train = y\n",
    "\n",
    "    def predict(self, X):\n",
    "        predictions = [self._predict(x) for x in X]\n",
    "        return predictions\n",
    "\n",
    "    def _predict(self, x):\n",
    "        # compute the distance\n",
    "        distances = [euclidean_distance(x, x_train) for x_train in self.X_train]\n",
    "    \n",
    "        # get the closest k\n",
    "        k_indices = np.argsort(distances)[:self.k]\n",
    "        k_nearest_labels = [self.y_train[i] for i in k_indices]\n",
    "\n",
    "        # majority voye\n",
    "        most_common = Counter(k_nearest_labels).most_common()\n",
    "        return most_common[0][0]"
   ]
  },
  {
   "cell_type": "code",
   "execution_count": 2,
   "id": "1f2e9fc3",
   "metadata": {},
   "outputs": [],
   "source": [
    "cmap = ListedColormap(['#FF0000','#00FF00','#0000FF'])\n",
    "\n",
    "df= pd.read_csv(\"pridiction.csv\")\n",
    "\n",
    "X = df[[\"SCORE\",\"CLUSTER\"]].values.astype(int)\n",
    "y = df[\"RESULT \"].values\n",
    "\n",
    "X_train, X_test, y_train, y_test = train_test_split(X, y, test_size=0.2, random_state=1234)"
   ]
  },
  {
   "cell_type": "code",
   "execution_count": 3,
   "id": "fa77197a",
   "metadata": {},
   "outputs": [
    {
     "data": {
      "text/plain": [
       "\"plt.figure()\\nplt.scatter(X[:,2],X[:,3], c=y, cmap=cmap, edgecolor='k', s=20)\\nplt.show()\""
      ]
     },
     "execution_count": 3,
     "metadata": {},
     "output_type": "execute_result"
    }
   ],
   "source": [
    "\"\"\"plt.figure()\n",
    "plt.scatter(X[:,2],X[:,3], c=y, cmap=cmap, edgecolor='k', s=20)\n",
    "plt.show()\"\"\""
   ]
  },
  {
   "cell_type": "code",
   "execution_count": 4,
   "id": "2c679b0f",
   "metadata": {},
   "outputs": [
    {
     "name": "stdout",
     "output_type": "stream",
     "text": [
      "['Lost', 'Won', 'Lost', 'Lost', 'Lost', 'Lost', 'Lost', 'Lost', 'Lost', 'Lost', 'Lost', 'Lost', 'Lost', 'Lost', 'Lost', 'Lost', 'Lost', 'Lost', 'Lost', 'Lost', 'Lost', 'Lost', 'Lost', 'Lost', 'Lost', 'Lost', 'Lost', 'Lost', 'Lost', 'Lost', 'Lost', 'Lost', 'Lost', 'Lost', 'Lost', 'Lost', 'Lost', 'Lost', 'Won', 'Lost', 'Lost', 'Lost', 'Won', 'Lost', 'Lost', 'Lost', 'Lost', 'Lost', 'Lost', 'Lost', 'Lost', 'Lost', 'Lost', 'Lost', 'Lost', 'Lost']\n",
      "0.6964285714285714\n"
     ]
    }
   ],
   "source": [
    "clf = KNN(k=7)\n",
    "clf.fit(X_train, y_train)\n",
    "predictions = clf.predict(X_test)\n",
    "\n",
    "print(predictions)\n",
    "\n",
    "acc = np.sum(predictions == y_test) / len(y_test)\n",
    "print(acc)"
   ]
  },
  {
   "cell_type": "code",
   "execution_count": 5,
   "id": "1344612f",
   "metadata": {},
   "outputs": [
    {
     "name": "stdout",
     "output_type": "stream",
     "text": [
      "Enter the Cluster value: 10\n",
      "Enter the Score value: 5\n",
      "According to historical data, The Case has more chance of winning if trailed in the court\n",
      "The predicted result is: Won\n"
     ]
    }
   ],
   "source": [
    "cluster = int(input(\"Enter the Cluster value: \"))\n",
    "score = int(input(\"Enter the Score value: \"))\n",
    "prediction = clf.predict([[cluster, score]])[0]\n",
    "\n",
    "if prediction ==\"Won\":\n",
    "    print(\"According to historical data, The Case has more chance of winning if trailed in the court\")\n",
    "else:\n",
    "    print(\"According to historical data,the Case has more chance to be lost if trailed in the court\")\n",
    "print(\"The predicted result is:\", prediction)"
   ]
  },
  {
   "cell_type": "code",
   "execution_count": null,
   "id": "500a2ef2",
   "metadata": {},
   "outputs": [],
   "source": []
  }
 ],
 "metadata": {
  "kernelspec": {
   "display_name": "Python 3 (ipykernel)",
   "language": "python",
   "name": "python3"
  },
  "language_info": {
   "codemirror_mode": {
    "name": "ipython",
    "version": 3
   },
   "file_extension": ".py",
   "mimetype": "text/x-python",
   "name": "python",
   "nbconvert_exporter": "python",
   "pygments_lexer": "ipython3",
   "version": "3.9.2"
  }
 },
 "nbformat": 4,
 "nbformat_minor": 5
}
